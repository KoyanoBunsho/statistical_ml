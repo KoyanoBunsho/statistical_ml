{
 "cells": [
  {
   "cell_type": "markdown",
   "metadata": {},
   "source": [
    "### 1.1 Least squares\n",
    "- calculate intercept and slope by least squares according to data\n",
    "- L represents the sum of the square distance between data and the line\n",
    "\n",
    "$$\n",
    "L:=\\sum_{i=1}^{N}(y_i-\\beta_0-\\beta_1x_i)^2\n",
    "$$\n",
    "\n",
    "- Partially differentiate L by $\\beta_0$ and $\\beta_1$\n",
    "\n",
    "$$\n",
    "  \\frac{\\partial L}{\\partial \\beta_0} = \n",
    "  -2\\sum_{i=1}^{N}(y_i-\\beta_0-\\beta_1x_i)=\n",
    "  0\n",
    "$$\n",
    "\n",
    "$$\n",
    "  \\frac{\\partial L}{\\partial \\beta_1} = \n",
    "  -2\\sum_{i=1}^{N}x_i(y_i-\\beta_0-\\beta_1x_i)=\n",
    "  0\n",
    "$$\n",
    "\n",
    "- By calculating the equations above, we can acquire equations below\n",
    "\n",
    "$$\n",
    "\\hat{\\beta_1} = \\frac{\\sum_{i=1}^{N}(x_i-\\bar{x})(y_i-\\bar{y})}{\\sum_{i=1}^{N}(x_i-\\bar{x})^2}\n",
    "$$\n",
    "\n",
    "$$\n",
    "\\hat{\\beta_0} = \\bar{y} - \\hat{\\beta_1}\\bar{x}\n",
    "$$\n",
    "\n",
    "- If we assume $\\beta_0 = 0$, we can calculate $\\beta_1$ as below\n",
    "\n",
    "$$\n",
    "\\hat{\\beta_1} = \\frac{\\sum_{i=1}^{N}x_iy_i}{\\sum_{i=1}^{N}x_i^2}\n",
    "$$"
   ]
  },
  {
   "cell_type": "code",
   "execution_count": 12,
   "metadata": {},
   "outputs": [],
   "source": [
    "import numpy as np\n",
    "import matplotlib.pyplot as plt\n",
    "%matplotlib inline\n",
    "\n",
    "\n",
    "def min_sq(x, y):\n",
    "    x_bar, y_bar = np.mean(x), np.mean(y)\n",
    "    beta_1 = np.dot(x - x_bar, y - y_bar) / np.linalg.norm(x - x_bar) ** 2\n",
    "    beta_0 = y_bar - beta_1 * x_bar\n",
    "    return beta_1, beta_0"
   ]
  },
  {
   "cell_type": "code",
   "execution_count": 9,
   "metadata": {},
   "outputs": [],
   "source": [
    "N = 100\n",
    "a = np.random.normal(loc=2, scale=1, size=N)\n",
    "b = np.random.randn(1)\n",
    "x = np.random.randn(N)\n",
    "y = a*x + b + np.random.randn(N)\n",
    "a1, b1 = min_sq(x, y)\n",
    "xx = x-np.mean(x)\n",
    "yy = y-np.mean(y)\n",
    "a2, b2=min_sq(xx, yy)"
   ]
  },
  {
   "cell_type": "code",
   "execution_count": 10,
   "metadata": {},
   "outputs": [
    {
     "data": {
      "text/plain": [
       "(1.8999638851730147, -2.420294212785331e-16)"
      ]
     },
     "execution_count": 10,
     "metadata": {},
     "output_type": "execute_result"
    }
   ],
   "source": [
    "a2, b2"
   ]
  },
  {
   "cell_type": "code",
   "execution_count": 16,
   "metadata": {},
   "outputs": [
    {
     "data": {
      "text/plain": [
       "<matplotlib.legend.Legend at 0x11ad9dc70>"
      ]
     },
     "execution_count": 16,
     "metadata": {},
     "output_type": "execute_result"
    },
    {
     "data": {
      "image/png": "[encoded data removed]",
      "text/plain": [
       "<Figure size 432x288 with 1 Axes>"
      ]
     },
     "metadata": {
      "needs_background": "light"
     },
     "output_type": "display_data"
    }
   ],
   "source": [
    "x_seq = np.arange(-5, 5, 0.1)\n",
    "y_pre = x_seq*a1+b1\n",
    "yy_pre=x_seq*a2+b2\n",
    "plt.scatter(x, y, c=\"black\")\n",
    "plt.axhline(y=0, c=\"black\", linewidth=0.5)\n",
    "plt.axvline(x=0, c=\"black\", linewidth=0.5)\n",
    "plt.plot(x_seq, y_pre, c=\"blue\", label=\"before centralization\")\n",
    "plt.plot(x_seq, yy_pre, c=\"orange\", label=\"after centralization\")\n",
    "plt.legend(loc=\"upper left\")"
   ]
  },
  {
   "cell_type": "markdown",
   "metadata": {},
   "source": [
    "### 1.2 Multiple Regression"
   ]
  },
  {
   "cell_type": "markdown",
   "metadata": {},
   "source": [
    "$$\n",
    "y := \\left[\\begin{array}{c}\n",
    "y_1 \\\\\n",
    "\\vdots \\\\\n",
    "y_N\\end{array}\\right]\n",
    "$$\n",
    "\n",
    "$$\n",
    "\\boldsymbol{X}=\n",
    "\\left[\\begin{array}{ccc}\n",
    "1 & x_2 \\\\\n",
    "\\vdots & \\vdots \\\\\n",
    "1 & x_N\\end{array}\\right]\n",
    "$$\n",
    "\n",
    "$$\n",
    "\\beta = \\left[\\begin{array}{c}\n",
    "\\beta_0\\\\\n",
    "\\beta_1 \\\\\n",
    "\\end{array}\\right]\n",
    "$$"
   ]
  },
  {
   "cell_type": "code",
   "execution_count": null,
   "metadata": {},
   "outputs": [],
   "source": []
  }
 ],
 "metadata": {
  "kernelspec": {
   "display_name": "Python 3",
   "language": "python",
   "name": "python3"
  },
  "language_info": {
   "codemirror_mode": {
    "name": "ipython",
    "version": 3
   },
   "file_extension": ".py",
   "mimetype": "text/x-python",
   "name": "python",
   "nbconvert_exporter": "python",
   "pygments_lexer": "ipython3",
   "version": "3.8.1"
  }
 },
 "nbformat": 4,
 "nbformat_minor": 4
}
